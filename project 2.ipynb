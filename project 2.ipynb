{
 "cells": [
  {
   "cell_type": "code",
   "execution_count": 23,
   "id": "e62044d9",
   "metadata": {},
   "outputs": [
    {
     "data": {
      "text/html": [
       "<div>\n",
       "<style scoped>\n",
       "    .dataframe tbody tr th:only-of-type {\n",
       "        vertical-align: middle;\n",
       "    }\n",
       "\n",
       "    .dataframe tbody tr th {\n",
       "        vertical-align: top;\n",
       "    }\n",
       "\n",
       "    .dataframe thead th {\n",
       "        text-align: right;\n",
       "    }\n",
       "</style>\n",
       "<table border=\"1\" class=\"dataframe\">\n",
       "  <thead>\n",
       "    <tr style=\"text-align: right;\">\n",
       "      <th></th>\n",
       "      <th>Year</th>\n",
       "      <th>Gross domestic product</th>\n",
       "      <th>Personal consumption expenditures</th>\n",
       "      <th>Gross private domestic investment</th>\n",
       "      <th>Net exports of goods and services</th>\n",
       "      <th>Government consumption expenditures and gross investment</th>\n",
       "    </tr>\n",
       "  </thead>\n",
       "  <tbody>\n",
       "    <tr>\n",
       "      <th>0</th>\n",
       "      <td>2015</td>\n",
       "      <td>18206.0</td>\n",
       "      <td>12263.5</td>\n",
       "      <td>3237.2</td>\n",
       "      <td>-526.2</td>\n",
       "      <td>3231.6</td>\n",
       "    </tr>\n",
       "    <tr>\n",
       "      <th>1</th>\n",
       "      <td>2016</td>\n",
       "      <td>18695.1</td>\n",
       "      <td>12693.3</td>\n",
       "      <td>3205.0</td>\n",
       "      <td>-506.3</td>\n",
       "      <td>3303.1</td>\n",
       "    </tr>\n",
       "    <tr>\n",
       "      <th>2</th>\n",
       "      <td>2017</td>\n",
       "      <td>19479.6</td>\n",
       "      <td>13239.1</td>\n",
       "      <td>3381.4</td>\n",
       "      <td>-539.9</td>\n",
       "      <td>3399.1</td>\n",
       "    </tr>\n",
       "    <tr>\n",
       "      <th>3</th>\n",
       "      <td>2018</td>\n",
       "      <td>20527.2</td>\n",
       "      <td>13913.5</td>\n",
       "      <td>3637.8</td>\n",
       "      <td>-596.2</td>\n",
       "      <td>3572.0</td>\n",
       "    </tr>\n",
       "    <tr>\n",
       "      <th>4</th>\n",
       "      <td>2019</td>\n",
       "      <td>21372.6</td>\n",
       "      <td>14428.7</td>\n",
       "      <td>3826.3</td>\n",
       "      <td>-596.3</td>\n",
       "      <td>3713.9</td>\n",
       "    </tr>\n",
       "    <tr>\n",
       "      <th>5</th>\n",
       "      <td>2020</td>\n",
       "      <td>20893.7</td>\n",
       "      <td>14047.6</td>\n",
       "      <td>3637.8</td>\n",
       "      <td>-651.2</td>\n",
       "      <td>3859.5</td>\n",
       "    </tr>\n",
       "    <tr>\n",
       "      <th>6</th>\n",
       "      <td>2021</td>\n",
       "      <td>22997.5</td>\n",
       "      <td>15746.9</td>\n",
       "      <td>4113.4</td>\n",
       "      <td>-915.9</td>\n",
       "      <td>4053.0</td>\n",
       "    </tr>\n",
       "  </tbody>\n",
       "</table>\n",
       "</div>"
      ],
      "text/plain": [
       "   Year  Gross domestic product  Personal consumption expenditures  \\\n",
       "0  2015                 18206.0                            12263.5   \n",
       "1  2016                 18695.1                            12693.3   \n",
       "2  2017                 19479.6                            13239.1   \n",
       "3  2018                 20527.2                            13913.5   \n",
       "4  2019                 21372.6                            14428.7   \n",
       "5  2020                 20893.7                            14047.6   \n",
       "6  2021                 22997.5                            15746.9   \n",
       "\n",
       "   Gross private domestic investment  Net exports of goods and services  \\\n",
       "0                             3237.2                             -526.2   \n",
       "1                             3205.0                             -506.3   \n",
       "2                             3381.4                             -539.9   \n",
       "3                             3637.8                             -596.2   \n",
       "4                             3826.3                             -596.3   \n",
       "5                             3637.8                             -651.2   \n",
       "6                             4113.4                             -915.9   \n",
       "\n",
       "   Government consumption expenditures and gross investment  \n",
       "0                                             3231.6         \n",
       "1                                             3303.1         \n",
       "2                                             3399.1         \n",
       "3                                             3572.0         \n",
       "4                                             3713.9         \n",
       "5                                             3859.5         \n",
       "6                                             4053.0         "
      ]
     },
     "execution_count": 23,
     "metadata": {},
     "output_type": "execute_result"
    }
   ],
   "source": [
    "import pandas as pd\n",
    "\n",
    "df = pd.read_csv('downloads/Copy of Project 2 corrected data - Project 2 GDP data 3.csv')\n",
    "\n",
    "df.head(7)"
   ]
  },
  {
   "cell_type": "code",
   "execution_count": 6,
   "id": "3020485f",
   "metadata": {},
   "outputs": [
    {
     "data": {
      "image/png": "[encoded data removed]",
      "text/plain": [
       "<Figure size 432x288 with 1 Axes>"
      ]
     },
     "metadata": {
      "needs_background": "light"
     },
     "output_type": "display_data"
    }
   ],
   "source": [
    "import pandas as pd\n",
    "\n",
    "df = pd.read_csv('downloads/Copy of Project 2 corrected data - Project 2 GDP data 3.csv')\n",
    "\n",
    "df.head(7)\n",
    "x = list(df['Year'])\n",
    "y = list(df['Net exports of goods and services'])\n",
    "import matplotlib.pyplot as plt\n",
    "plt.xlabel(\"Year\")\n",
    "plt.ylabel(\"Net exports of goods and services\")\n",
    "plt.plot(x,y)\n",
    "plt.show()\n"
   ]
  },
  {
   "cell_type": "code",
   "execution_count": null,
   "id": "05939894",
   "metadata": {},
   "outputs": [],
   "source": []
  }
 ],
 "metadata": {
  "kernelspec": {
   "display_name": "Python 3 (ipykernel)",
   "language": "python",
   "name": "python3"
  },
  "language_info": {
   "codemirror_mode": {
    "name": "ipython",
    "version": 3
   },
   "file_extension": ".py",
   "mimetype": "text/x-python",
   "name": "python",
   "nbconvert_exporter": "python",
   "pygments_lexer": "ipython3",
   "version": "3.9.7"
  }
 },
 "nbformat": 4,
 "nbformat_minor": 5
}
